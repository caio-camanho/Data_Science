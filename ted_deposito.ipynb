{
  "nbformat": 4,
  "nbformat_minor": 0,
  "metadata": {
    "colab": {
      "name": "ted_deposito.ipynb",
      "private_outputs": true,
      "provenance": [],
      "collapsed_sections": [],
      "mount_file_id": "1M_ITiViMpmlx1d2MdlJpZtxLwigAssbu",
      "authorship_tag": "ABX9TyMq0hljJ/U7r731zuEXx0Zb",
      "include_colab_link": true
    },
    "kernelspec": {
      "name": "python3",
      "display_name": "Python 3"
    },
    "language_info": {
      "name": "python"
    }
  },
  "cells": [
    {
      "cell_type": "markdown",
      "metadata": {
        "id": "view-in-github",
        "colab_type": "text"
      },
      "source": [
        "<a href=\"https://colab.research.google.com/github/caiocamanho/Data_Science/blob/main/ted_deposito.ipynb\" target=\"_parent\"><img src=\"https://colab.research.google.com/assets/colab-badge.svg\" alt=\"Open In Colab\"/></a>"
      ]
    },
    {
      "cell_type": "code",
      "metadata": {
        "id": "5FUj4wyovfle"
      },
      "source": [
        "import pandas as pd\n",
        "\n",
        "from datetime import datetime\n",
        "\n",
        "#Biblioteca de visualição de dados\n",
        "import cufflinks as cf\n",
        "cf.go_offline()\n",
        "\n",
        "import plotly\n",
        "plotly.io.renderers.default= 'colab'\n"
      ],
      "execution_count": null,
      "outputs": []
    },
    {
      "cell_type": "code",
      "metadata": {
        "id": "YgPuecLGvjgb"
      },
      "source": [
        "#Criei um variavel que contém o caminho arquivo xlx, que tem base de dados\n",
        "url ='/content/drive/MyDrive/FIIS/Historio_conta_Rico1.xlsx'"
      ],
      "execution_count": null,
      "outputs": []
    },
    {
      "cell_type": "code",
      "metadata": {
        "id": "uCT9GPEIvnmX"
      },
      "source": [
        "# Cria Data Frame com os dados da guia p1 do arquivo de xlx\n",
        "fii = pd.read_excel(url, sheet_name='p1')"
      ],
      "execution_count": null,
      "outputs": []
    },
    {
      "cell_type": "code",
      "metadata": {
        "id": "MRfyrPtgvskV"
      },
      "source": [
        "#Adiciona a coluna DataMes ao data Frame\n",
        "fii['Data_Lan'] = pd.to_datetime(fii['Data_Lan'])\n",
        "fii['DataMes'] = fii['Data_Lan'].dt.strftime('%m')"
      ],
      "execution_count": null,
      "outputs": []
    },
    {
      "cell_type": "code",
      "metadata": {
        "id": "sXrYSls7tpuG"
      },
      "source": [
        "#lista com range de 1 ate 12\n",
        "listaMes=[*range(1,13)]\n",
        "#lista com 12 elementos igauis a 0\n",
        "lista=[0,0,0,0,0,0,0,0,0,0,0,0]\n",
        "lista2=[0,0,0,0,0,0,0,0,0,0,0,0]\n",
        "#Lista nome dos meses\n",
        "listaNomeMes=['Janeiro',\n",
        "              'Fevereiro',\n",
        "              'Marco',\n",
        "              'Abril',\n",
        "              'Maio',\n",
        "              'Junho',\n",
        "              'Julho',\n",
        "              'Agosto',\n",
        "              'Setembro',\n",
        "              'Outubro',\n",
        "              'Novembro',\n",
        "              'Dezembro']\n",
        "#Objeto inicializador do while\n",
        "i=0\n",
        "#Laço while que repeti ate 12\n",
        "while i<12: \n",
        "  '''\n",
        "    Função zfill(2) dois digitos , coloca um zero a esquerda\n",
        "    Função str converte numero em string\n",
        "  '''\n",
        "  vlri =(fii['DataMes']==str(listaMes[i]).zfill(2)) & (fii['Operacao']=='TED_Deposito')\n",
        "  swi = round(fii.loc[vlri,'Valor'],2)\n",
        "  soi=swi.sum()\n",
        "  lista[i]=soi\n",
        "  i=i+1\n",
        "\n",
        "#Soma dos elemento da lista lita\n",
        "somalita=sum(lista)\n",
        "#Inicializador do while\n",
        "i=0\n",
        "while i<12:\n",
        "  #Calculo necessario para trazer o porcento\n",
        "  pi=round((lista[i]/somalita)*100,2)\n",
        "  lista2[i]=pi\n",
        "  i=i+1\n",
        "#Data Frame\n",
        "df= pd.DataFrame({'Valor':lista,'%':lista2},index=listaNomeMes)\n",
        "df"
      ],
      "execution_count": null,
      "outputs": []
    },
    {
      "cell_type": "code",
      "metadata": {
        "id": "83Mlue34KDQe"
      },
      "source": [
        "df1= df.drop(columns=['%'])\n",
        "df1.iplot(kind='bar',title=\"TED\",yTitle=\"Reais\")"
      ],
      "execution_count": null,
      "outputs": []
    },
    {
      "cell_type": "code",
      "metadata": {
        "id": "ig9L-4ASKkmD"
      },
      "source": [
        "df2= df.drop(columns=['Valor'])\n",
        "df2.iplot(kind='bar',title=\"TED\",yTitle='Porcentagem')"
      ],
      "execution_count": null,
      "outputs": []
    }
  ]
}